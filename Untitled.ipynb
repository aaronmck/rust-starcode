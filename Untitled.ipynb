{
 "cells": [
  {
   "cell_type": "code",
   "execution_count": 2,
   "id": "e4de43dc-14d8-4428-86ce-67643052398f",
   "metadata": {},
   "outputs": [],
   "source": [
    "output = open(\"randos.txt\",\"w\")\n",
    "import random\n",
    "\n",
    "def generate_random_nucleotide_sequence(length):\n",
    "    nucleotides = ['A', 'T', 'C', 'G']\n",
    "    sequence = ''.join(random.choice(nucleotides) for _ in range(length))\n",
    "    return sequence\n",
    "\n",
    "# Example usage:\n",
    "sequence_length = 10\n",
    "rando_collection = {}\n",
    "\n",
    "for i in range(0,1000):\n",
    "    rando_collection[generate_random_nucleotide_sequence(sequence_length)] = True\n",
    "\n",
    "for rando,status in rando_collection.items():\n",
    "    output.write(rando + \"\\n\")\n",
    "output.close()\n"
   ]
  },
  {
   "cell_type": "code",
   "execution_count": null,
   "id": "98d820d9-757a-4007-8bcb-f7906228548c",
   "metadata": {},
   "outputs": [],
   "source": [
    "\n"
   ]
  }
 ],
 "metadata": {
  "kernelspec": {
   "display_name": "Python 3 (ipykernel)",
   "language": "python",
   "name": "python3"
  },
  "language_info": {
   "codemirror_mode": {
    "name": "ipython",
    "version": 3
   },
   "file_extension": ".py",
   "mimetype": "text/x-python",
   "name": "python",
   "nbconvert_exporter": "python",
   "pygments_lexer": "ipython3",
   "version": "3.9.19"
  }
 },
 "nbformat": 4,
 "nbformat_minor": 5
}
